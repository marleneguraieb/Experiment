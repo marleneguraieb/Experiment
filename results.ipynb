{
 "cells": [
  {
   "cell_type": "code",
   "execution_count": 208,
   "metadata": {
    "collapsed": false
   },
   "outputs": [],
   "source": [
    "%matplotlib inline\n",
    "\n",
    "import pandas as pd\n",
    "import matplotlib\n",
    "import numpy as np\n",
    "import matplotlib.pyplot as plt\n",
    "import statsmodels.formula.api as smf\n",
    "from statsmodels.graphics.factorplots import interaction_plot"
   ]
  },
  {
   "cell_type": "markdown",
   "metadata": {},
   "source": [
    "# Experiment results"
   ]
  },
  {
   "cell_type": "code",
   "execution_count": 59,
   "metadata": {
    "collapsed": false
   },
   "outputs": [],
   "source": [
    "#Get data (previously cleaned in Cleaning.R)\n",
    "data = pd.read_csv(\"all_data.csv\")"
   ]
  },
  {
   "cell_type": "code",
   "execution_count": 60,
   "metadata": {
    "collapsed": false
   },
   "outputs": [],
   "source": [
    "data['sps'] = data.Session.astype(str).str.cat(data.Period.astype(str).str.cat(data.Subject.astype(str), sep='-'), sep='-')\n",
    "#data.index = [data[\"Session\"].map(str) + \"-\"+ data[\"Period\"].map(str) + \"-\" + data[\"Subject\"].map(str)]"
   ]
  },
  {
   "cell_type": "code",
   "execution_count": 61,
   "metadata": {
    "collapsed": false
   },
   "outputs": [],
   "source": [
    "data = data.set_index(data.sps,drop=True)"
   ]
  },
  {
   "cell_type": "code",
   "execution_count": 62,
   "metadata": {
    "collapsed": false
   },
   "outputs": [
    {
     "data": {
      "text/html": [
       "<div>\n",
       "<table border=\"1\" class=\"dataframe\">\n",
       "  <thead>\n",
       "    <tr style=\"text-align: right;\">\n",
       "      <th></th>\n",
       "      <th>Unnamed: 0</th>\n",
       "      <th>Period</th>\n",
       "      <th>Subject</th>\n",
       "      <th>MyPartner</th>\n",
       "      <th>Agent</th>\n",
       "      <th>Theta</th>\n",
       "      <th>Applet</th>\n",
       "      <th>Inv</th>\n",
       "      <th>Disclose</th>\n",
       "      <th>ProbType</th>\n",
       "      <th>ProbBarrel</th>\n",
       "      <th>Outcome</th>\n",
       "      <th>Retain</th>\n",
       "      <th>myRetention</th>\n",
       "      <th>Session</th>\n",
       "      <th>Treatment</th>\n",
       "    </tr>\n",
       "  </thead>\n",
       "  <tbody>\n",
       "    <tr>\n",
       "      <th>count</th>\n",
       "      <td>3358.000000</td>\n",
       "      <td>3358.000000</td>\n",
       "      <td>3358.000000</td>\n",
       "      <td>3358.000000</td>\n",
       "      <td>3358.000000</td>\n",
       "      <td>1679.000000</td>\n",
       "      <td>1679.000000</td>\n",
       "      <td>1679.000000</td>\n",
       "      <td>1679.000000</td>\n",
       "      <td>3358.000000</td>\n",
       "      <td>3358.000000</td>\n",
       "      <td>1679.000000</td>\n",
       "      <td>1679.000000</td>\n",
       "      <td>3358.000000</td>\n",
       "      <td>3358.000000</td>\n",
       "      <td>3358.000000</td>\n",
       "    </tr>\n",
       "    <tr>\n",
       "      <th>mean</th>\n",
       "      <td>1679.500000</td>\n",
       "      <td>10.214413</td>\n",
       "      <td>11.672722</td>\n",
       "      <td>11.672722</td>\n",
       "      <td>0.500000</td>\n",
       "      <td>0.502680</td>\n",
       "      <td>0.284693</td>\n",
       "      <td>0.767719</td>\n",
       "      <td>0.458606</td>\n",
       "      <td>0.239279</td>\n",
       "      <td>0.148511</td>\n",
       "      <td>1.796307</td>\n",
       "      <td>0.445503</td>\n",
       "      <td>0.222752</td>\n",
       "      <td>4.483621</td>\n",
       "      <td>0.749851</td>\n",
       "    </tr>\n",
       "    <tr>\n",
       "      <th>std</th>\n",
       "      <td>969.515429</td>\n",
       "      <td>5.662160</td>\n",
       "      <td>6.721387</td>\n",
       "      <td>6.721387</td>\n",
       "      <td>0.500074</td>\n",
       "      <td>0.500142</td>\n",
       "      <td>0.451403</td>\n",
       "      <td>0.422413</td>\n",
       "      <td>0.498432</td>\n",
       "      <td>0.298357</td>\n",
       "      <td>0.162703</td>\n",
       "      <td>0.853492</td>\n",
       "      <td>0.497169</td>\n",
       "      <td>0.416155</td>\n",
       "      <td>2.154765</td>\n",
       "      <td>0.688186</td>\n",
       "    </tr>\n",
       "    <tr>\n",
       "      <th>min</th>\n",
       "      <td>1.000000</td>\n",
       "      <td>1.000000</td>\n",
       "      <td>1.000000</td>\n",
       "      <td>1.000000</td>\n",
       "      <td>0.000000</td>\n",
       "      <td>0.000000</td>\n",
       "      <td>0.000000</td>\n",
       "      <td>0.000000</td>\n",
       "      <td>0.000000</td>\n",
       "      <td>0.000000</td>\n",
       "      <td>0.000000</td>\n",
       "      <td>1.000000</td>\n",
       "      <td>0.000000</td>\n",
       "      <td>0.000000</td>\n",
       "      <td>1.000000</td>\n",
       "      <td>0.000000</td>\n",
       "    </tr>\n",
       "    <tr>\n",
       "      <th>25%</th>\n",
       "      <td>840.250000</td>\n",
       "      <td>5.000000</td>\n",
       "      <td>6.000000</td>\n",
       "      <td>6.000000</td>\n",
       "      <td>0.000000</td>\n",
       "      <td>0.000000</td>\n",
       "      <td>0.000000</td>\n",
       "      <td>1.000000</td>\n",
       "      <td>0.000000</td>\n",
       "      <td>0.000000</td>\n",
       "      <td>0.000000</td>\n",
       "      <td>1.000000</td>\n",
       "      <td>0.000000</td>\n",
       "      <td>0.000000</td>\n",
       "      <td>3.000000</td>\n",
       "      <td>0.000000</td>\n",
       "    </tr>\n",
       "    <tr>\n",
       "      <th>50%</th>\n",
       "      <td>1679.500000</td>\n",
       "      <td>10.000000</td>\n",
       "      <td>11.000000</td>\n",
       "      <td>11.000000</td>\n",
       "      <td>0.500000</td>\n",
       "      <td>1.000000</td>\n",
       "      <td>0.000000</td>\n",
       "      <td>1.000000</td>\n",
       "      <td>0.000000</td>\n",
       "      <td>0.050000</td>\n",
       "      <td>0.100000</td>\n",
       "      <td>2.000000</td>\n",
       "      <td>0.000000</td>\n",
       "      <td>0.000000</td>\n",
       "      <td>4.000000</td>\n",
       "      <td>1.000000</td>\n",
       "    </tr>\n",
       "    <tr>\n",
       "      <th>75%</th>\n",
       "      <td>2518.750000</td>\n",
       "      <td>15.000000</td>\n",
       "      <td>17.000000</td>\n",
       "      <td>17.000000</td>\n",
       "      <td>1.000000</td>\n",
       "      <td>1.000000</td>\n",
       "      <td>1.000000</td>\n",
       "      <td>1.000000</td>\n",
       "      <td>1.000000</td>\n",
       "      <td>0.400000</td>\n",
       "      <td>0.300000</td>\n",
       "      <td>3.000000</td>\n",
       "      <td>1.000000</td>\n",
       "      <td>0.000000</td>\n",
       "      <td>6.000000</td>\n",
       "      <td>1.000000</td>\n",
       "    </tr>\n",
       "    <tr>\n",
       "      <th>max</th>\n",
       "      <td>3358.000000</td>\n",
       "      <td>20.000000</td>\n",
       "      <td>26.000000</td>\n",
       "      <td>26.000000</td>\n",
       "      <td>1.000000</td>\n",
       "      <td>1.000000</td>\n",
       "      <td>1.000000</td>\n",
       "      <td>1.000000</td>\n",
       "      <td>1.000000</td>\n",
       "      <td>0.800000</td>\n",
       "      <td>0.400000</td>\n",
       "      <td>3.000000</td>\n",
       "      <td>1.000000</td>\n",
       "      <td>1.000000</td>\n",
       "      <td>8.000000</td>\n",
       "      <td>2.000000</td>\n",
       "    </tr>\n",
       "  </tbody>\n",
       "</table>\n",
       "</div>"
      ],
      "text/plain": [
       "        Unnamed: 0       Period      Subject    MyPartner        Agent  \\\n",
       "count  3358.000000  3358.000000  3358.000000  3358.000000  3358.000000   \n",
       "mean   1679.500000    10.214413    11.672722    11.672722     0.500000   \n",
       "std     969.515429     5.662160     6.721387     6.721387     0.500074   \n",
       "min       1.000000     1.000000     1.000000     1.000000     0.000000   \n",
       "25%     840.250000     5.000000     6.000000     6.000000     0.000000   \n",
       "50%    1679.500000    10.000000    11.000000    11.000000     0.500000   \n",
       "75%    2518.750000    15.000000    17.000000    17.000000     1.000000   \n",
       "max    3358.000000    20.000000    26.000000    26.000000     1.000000   \n",
       "\n",
       "             Theta       Applet          Inv     Disclose     ProbType  \\\n",
       "count  1679.000000  1679.000000  1679.000000  1679.000000  3358.000000   \n",
       "mean      0.502680     0.284693     0.767719     0.458606     0.239279   \n",
       "std       0.500142     0.451403     0.422413     0.498432     0.298357   \n",
       "min       0.000000     0.000000     0.000000     0.000000     0.000000   \n",
       "25%       0.000000     0.000000     1.000000     0.000000     0.000000   \n",
       "50%       1.000000     0.000000     1.000000     0.000000     0.050000   \n",
       "75%       1.000000     1.000000     1.000000     1.000000     0.400000   \n",
       "max       1.000000     1.000000     1.000000     1.000000     0.800000   \n",
       "\n",
       "        ProbBarrel      Outcome       Retain  myRetention      Session  \\\n",
       "count  3358.000000  1679.000000  1679.000000  3358.000000  3358.000000   \n",
       "mean      0.148511     1.796307     0.445503     0.222752     4.483621   \n",
       "std       0.162703     0.853492     0.497169     0.416155     2.154765   \n",
       "min       0.000000     1.000000     0.000000     0.000000     1.000000   \n",
       "25%       0.000000     1.000000     0.000000     0.000000     3.000000   \n",
       "50%       0.100000     2.000000     0.000000     0.000000     4.000000   \n",
       "75%       0.300000     3.000000     1.000000     0.000000     6.000000   \n",
       "max       0.400000     3.000000     1.000000     1.000000     8.000000   \n",
       "\n",
       "         Treatment  \n",
       "count  3358.000000  \n",
       "mean      0.749851  \n",
       "std       0.688186  \n",
       "min       0.000000  \n",
       "25%       0.000000  \n",
       "50%       1.000000  \n",
       "75%       1.000000  \n",
       "max       2.000000  "
      ]
     },
     "execution_count": 62,
     "metadata": {},
     "output_type": "execute_result"
    }
   ],
   "source": [
    "data.describe()"
   ]
  },
  {
   "cell_type": "code",
   "execution_count": 65,
   "metadata": {
    "collapsed": false
   },
   "outputs": [
    {
     "data": {
      "text/plain": [
       "1    1558\n",
       "0    1320\n",
       "2     480\n",
       "Name: Treatment, dtype: int64"
      ]
     },
     "execution_count": 65,
     "metadata": {},
     "output_type": "execute_result"
    }
   ],
   "source": [
    "#Here we have 1,320 observations of 'Decision' treatment, 1,558 of strat_lc, and 48 of strat_hc\n",
    "data.Treatment.value_counts()"
   ]
  },
  {
   "cell_type": "markdown",
   "metadata": {},
   "source": [
    "## Are subjects being strategic in their retention decisions?"
   ]
  },
  {
   "cell_type": "code",
   "execution_count": 108,
   "metadata": {
    "collapsed": true
   },
   "outputs": [],
   "source": [
    "#How many periods are we taking into account?\n",
    "per = 5"
   ]
  },
  {
   "cell_type": "code",
   "execution_count": 114,
   "metadata": {
    "collapsed": false
   },
   "outputs": [],
   "source": [
    "#When treatment is strategic:\n",
    "#If I invest high and get zero I should kick out (so theory predicts zero):\n",
    "Hi_sT_exp = data.Retain[((data.Inv==1) & (data.Outcome==3) & (data.Treatment!=0) & (data.Period>per))].mean()\n",
    "Hi_sT_th = 0\n",
    "#If I invest low and get zero I should retain (so close to one):\n",
    "Li_sT_exp = data.Retain[((data.Inv==0) & (data.Outcome==3) & (data.Treatment!=0) & (data.Period>per))].mean()\n",
    "Li_sT_th = 1\n",
    "#When treatment is not strategic:\n",
    "#If I invest high and get zero I should retain (close to one):\n",
    "Hi_dT_exp = data.Retain[((data.Inv==1) & (data.Outcome==3) & (data.Treatment==0) & (data.Period>per))].mean()\n",
    "Hi_dT_th = 1\n",
    "#If I invest low and get zero I should retain (so close to one):\n",
    "Li_dT_exp = data.Retain[((data.Inv==0) & (data.Outcome==3) & (data.Treatment==0) & (data.Period>per))].mean()\n",
    "Li_dT_th = 1"
   ]
  },
  {
   "cell_type": "code",
   "execution_count": 117,
   "metadata": {
    "collapsed": false
   },
   "outputs": [],
   "source": [
    "ret_table = pd.DataFrame([[Hi_sT_exp,Li_sT_exp,Hi_sT_exp-Li_sT_exp,Hi_dT_exp,Li_dT_exp,Hi_dT_exp-Li_dT_exp],\\\n",
    "             [Hi_sT_th,Li_sT_th,Hi_sT_th-Li_sT_th,Hi_dT_th,Li_dT_th,Hi_dT_th-Li_dT_th]],index=['Data','Theory'])\n",
    "cols = ['HighI,Strategic','LowI,Strategic','Diff','HighI,Decision','LowI,Decision','Diff']\n",
    "ret_table.columns = cols"
   ]
  },
  {
   "cell_type": "code",
   "execution_count": 118,
   "metadata": {
    "collapsed": false
   },
   "outputs": [
    {
     "data": {
      "text/html": [
       "<div>\n",
       "<table border=\"1\" class=\"dataframe\">\n",
       "  <thead>\n",
       "    <tr style=\"text-align: right;\">\n",
       "      <th></th>\n",
       "      <th>HighI,Strategic</th>\n",
       "      <th>LowI,Strategic</th>\n",
       "      <th>Diff</th>\n",
       "      <th>HighI,Decision</th>\n",
       "      <th>LowI,Decision</th>\n",
       "      <th>Diff</th>\n",
       "    </tr>\n",
       "  </thead>\n",
       "  <tbody>\n",
       "    <tr>\n",
       "      <th>Data</th>\n",
       "      <td>0.189189</td>\n",
       "      <td>0.488636</td>\n",
       "      <td>-0.299447</td>\n",
       "      <td>0.738095</td>\n",
       "      <td>0.846154</td>\n",
       "      <td>-0.108059</td>\n",
       "    </tr>\n",
       "    <tr>\n",
       "      <th>Theory</th>\n",
       "      <td>0.000000</td>\n",
       "      <td>1.000000</td>\n",
       "      <td>-1.000000</td>\n",
       "      <td>1.000000</td>\n",
       "      <td>1.000000</td>\n",
       "      <td>0.000000</td>\n",
       "    </tr>\n",
       "  </tbody>\n",
       "</table>\n",
       "</div>"
      ],
      "text/plain": [
       "        HighI,Strategic  LowI,Strategic      Diff  HighI,Decision  \\\n",
       "Data           0.189189        0.488636 -0.299447        0.738095   \n",
       "Theory         0.000000        1.000000 -1.000000        1.000000   \n",
       "\n",
       "        LowI,Decision      Diff  \n",
       "Data         0.846154 -0.108059  \n",
       "Theory       1.000000  0.000000  "
      ]
     },
     "execution_count": 118,
     "metadata": {},
     "output_type": "execute_result"
    }
   ],
   "source": [
    "ret_table"
   ]
  },
  {
   "cell_type": "code",
   "execution_count": 105,
   "metadata": {
    "collapsed": false
   },
   "outputs": [
    {
     "data": {
      "text/plain": [
       "0.42941130806121736"
      ]
     },
     "execution_count": 105,
     "metadata": {},
     "output_type": "execute_result"
    }
   ],
   "source": [
    "data.Retain[((data.Inv==1) & (data.Outcome==3) & (data.Treatment!=0))].std()"
   ]
  },
  {
   "cell_type": "markdown",
   "metadata": {},
   "source": [
    "## Are subjects understanding dominant disclosure strategies?"
   ]
  },
  {
   "cell_type": "code",
   "execution_count": 122,
   "metadata": {
    "collapsed": false
   },
   "outputs": [
    {
     "name": "stdout",
     "output_type": "stream",
     "text": [
      "0.777027027027 0.3475 0.325842696629\n"
     ]
    }
   ],
   "source": [
    "Ga_gb = data.Disclose[( (data.Theta==1) & (data.Applet==1))].mean()\n",
    "Ba_gb = data.Disclose[( (data.Theta==1) & (data.Applet==0))].mean()\n",
    "Ba_bb = data.Disclose[( (data.Theta==0) & (data.Applet==0))].mean()\n",
    "print(Ga_gb,Ba_gb,Ba_bb)"
   ]
  },
  {
   "cell_type": "code",
   "execution_count": 125,
   "metadata": {
    "collapsed": true
   },
   "outputs": [],
   "source": [
    "#This one is not dominant, it is mismatched: high investment low disclosure, low investment high disclosure\n",
    "Ga_bb = data.Disclose[( (data.Theta==0) & (data.Applet==1) & (data.Inv==0))].mean()"
   ]
  },
  {
   "cell_type": "code",
   "execution_count": 145,
   "metadata": {
    "collapsed": false
   },
   "outputs": [
    {
     "data": {
      "text/plain": [
       "sps\n",
       "3-1-6    2.0\n",
       "Name: Disclose, dtype: float64"
      ]
     },
     "execution_count": 145,
     "metadata": {},
     "output_type": "execute_result"
    }
   ],
   "source": [
    "data.Disclose.loc[data.SPSubj=='3-1-6']"
   ]
  },
  {
   "cell_type": "code",
   "execution_count": 135,
   "metadata": {
    "collapsed": false
   },
   "outputs": [
    {
     "data": {
      "text/plain": [
       "'3-1-6'"
      ]
     },
     "execution_count": 135,
     "metadata": {},
     "output_type": "execute_result"
    }
   ],
   "source": [
    "data.SPSubj[5]"
   ]
  },
  {
   "cell_type": "code",
   "execution_count": 216,
   "metadata": {
    "collapsed": false
   },
   "outputs": [],
   "source": [
    "interactionsM = ['Treatment','Outcome','Inv','Period']\n",
    "df = data[['Retain','Treatment','Outcome','Inv','Period']].dropna(axis=0)\n",
    "df = df.reset_index()\n",
    "df = df.drop('sps', 1)\n",
    "y = df['Retain']\n",
    "X = pd.DataFrame(df,columns=interactionsM)"
   ]
  },
  {
   "cell_type": "code",
   "execution_count": 218,
   "metadata": {
    "collapsed": false
   },
   "outputs": [
    {
     "name": "stdout",
     "output_type": "stream",
     "text": [
      "                            OLS Regression Results                            \n",
      "==============================================================================\n",
      "Dep. Variable:                 Retain   R-squared:                       0.075\n",
      "Model:                            OLS   Adj. R-squared:                  0.068\n",
      "Method:                 Least Squares   F-statistic:                     11.28\n",
      "Date:                Thu, 12 Jan 2017   Prob (F-statistic):           4.91e-22\n",
      "Time:                        11:42:05   Log-Likelihood:                -1143.0\n",
      "No. Observations:                1679   AIC:                             2312.\n",
      "Df Residuals:                    1666   BIC:                             2383.\n",
      "Df Model:                          12                                         \n",
      "Covariance Type:            nonrobust                                         \n",
      "=======================================================================================================\n",
      "                                          coef    std err          t      P>|t|      [95.0% Conf. Int.]\n",
      "-------------------------------------------------------------------------------------------------------\n",
      "Intercept                               0.6037      0.034     18.015      0.000         0.538     0.669\n",
      "C(Treatment)[0]:C(Outcome)[1.0]:Inv    -0.2078      0.048     -4.352      0.000        -0.301    -0.114\n",
      "C(Treatment)[1]:C(Outcome)[1.0]:Inv    -0.1223      0.047     -2.616      0.009        -0.214    -0.031\n",
      "C(Treatment)[2]:C(Outcome)[1.0]:Inv    -0.0890      0.061     -1.457      0.145        -0.209     0.031\n",
      "C(Treatment)[0]:C(Outcome)[2.0]:Inv    -0.0547      0.058     -0.949      0.343        -0.168     0.058\n",
      "C(Treatment)[1]:C(Outcome)[2.0]:Inv    -0.1341      0.060     -2.229      0.026        -0.252    -0.016\n",
      "C(Treatment)[2]:C(Outcome)[2.0]:Inv    -0.1336      0.074     -1.795      0.073        -0.280     0.012\n",
      "C(Treatment)[0]:C(Outcome)[3.0]:Inv     0.1131      0.077      1.467      0.143        -0.038     0.264\n",
      "C(Treatment)[1]:C(Outcome)[3.0]:Inv    -0.3570      0.048     -7.439      0.000        -0.451    -0.263\n",
      "C(Treatment)[2]:C(Outcome)[3.0]:Inv    -0.4476      0.093     -4.830      0.000        -0.629    -0.266\n",
      "Period:C(Outcome)[1.0]                 -0.0079      0.003     -2.789      0.005        -0.013    -0.002\n",
      "Period:C(Outcome)[2.0]                  0.0012      0.004      0.342      0.732        -0.006     0.008\n",
      "Period:C(Outcome)[3.0]                  0.0010      0.003      0.286      0.775        -0.006     0.007\n",
      "==============================================================================\n",
      "Omnibus:                       10.955   Durbin-Watson:                   1.979\n",
      "Prob(Omnibus):                  0.004   Jarque-Bera (JB):              202.101\n",
      "Skew:                           0.199   Prob(JB):                     1.30e-44\n",
      "Kurtosis:                       1.348   Cond. No.                         69.0\n",
      "==============================================================================\n",
      "\n",
      "Warnings:\n",
      "[1] Standard Errors assume that the covariance matrix of the errors is correctly specified.\n"
     ]
    }
   ],
   "source": [
    "mod = smf.ols(formula='Retain ~ C(Treatment) : C(Outcome) : Inv + Period:C(Outcome)', data=df)\n",
    "res = mod.fit()\n",
    "print(res.summary())"
   ]
  },
  {
   "cell_type": "code",
   "execution_count": 252,
   "metadata": {
    "collapsed": false
   },
   "outputs": [],
   "source": [
    "Inv = pd.Series(df.Inv[(df['Outcome']==3) & (df['Treatment']<2)])\n",
    "Treatment = pd.Series(df.Treatment[(df['Outcome']==3) & (df['Treatment']<2)])\n",
    "Retain = pd.Series(df.Retain[(df['Outcome']==3) & (df['Treatment']<2)])"
   ]
  },
  {
   "cell_type": "code",
   "execution_count": 275,
   "metadata": {
    "collapsed": false
   },
   "outputs": [
    {
     "name": "stderr",
     "output_type": "stream",
     "text": [
      "/Users/marleneguraieb/anaconda2/envs/python3_env/lib/python3.5/site-packages/ipykernel/__main__.py:4: SettingWithCopyWarning: \n",
      "A value is trying to be set on a copy of a slice from a DataFrame.\n",
      "Try using .loc[row_indexer,col_indexer] = value instead\n",
      "\n",
      "See the caveats in the documentation: http://pandas.pydata.org/pandas-docs/stable/indexing.html#indexing-view-versus-copy\n",
      "/Users/marleneguraieb/anaconda2/envs/python3_env/lib/python3.5/site-packages/ipykernel/__main__.py:5: SettingWithCopyWarning: \n",
      "A value is trying to be set on a copy of a slice from a DataFrame.\n",
      "Try using .loc[row_indexer,col_indexer] = value instead\n",
      "\n",
      "See the caveats in the documentation: http://pandas.pydata.org/pandas-docs/stable/indexing.html#indexing-view-versus-copy\n"
     ]
    }
   ],
   "source": [
    "Empty =  df['Outcome'] == 3\n",
    "TTMT = df['Treatment']<2\n",
    "inter = df[Empty & TTMT]\n",
    "inter['TMT'] = inter[\"Treatment\"].astype('category')\n",
    "inter['Inv'] = inter['Inv'].astype('category')"
   ]
  },
  {
   "cell_type": "code",
   "execution_count": 276,
   "metadata": {
    "collapsed": false
   },
   "outputs": [
    {
     "data": {
      "text/plain": [
       "Retain        float64\n",
       "Treatment       int64\n",
       "Outcome       float64\n",
       "Inv          category\n",
       "Period          int64\n",
       "TMT          category\n",
       "dtype: object"
      ]
     },
     "execution_count": 276,
     "metadata": {},
     "output_type": "execute_result"
    }
   ],
   "source": [
    "inter.dtypes"
   ]
  },
  {
   "cell_type": "code",
   "execution_count": 277,
   "metadata": {
    "collapsed": false
   },
   "outputs": [
    {
     "ename": "KeyError",
     "evalue": "0",
     "output_type": "error",
     "traceback": [
      "\u001b[0;31m---------------------------------------------------------------------------\u001b[0m",
      "\u001b[0;31mKeyError\u001b[0m                                  Traceback (most recent call last)",
      "\u001b[0;32m<ipython-input-277-4a6cf228c705>\u001b[0m in \u001b[0;36m<module>\u001b[0;34m()\u001b[0m\n\u001b[1;32m      1\u001b[0m \u001b[0mfig\u001b[0m\u001b[0;34m,\u001b[0m \u001b[0max\u001b[0m \u001b[0;34m=\u001b[0m \u001b[0mplt\u001b[0m\u001b[0;34m.\u001b[0m\u001b[0msubplots\u001b[0m\u001b[0;34m(\u001b[0m\u001b[0mfigsize\u001b[0m\u001b[0;34m=\u001b[0m\u001b[0;34m(\u001b[0m\u001b[0;36m6\u001b[0m\u001b[0;34m,\u001b[0m \u001b[0;36m6\u001b[0m\u001b[0;34m)\u001b[0m\u001b[0;34m)\u001b[0m\u001b[0;34m\u001b[0m\u001b[0m\n\u001b[1;32m      2\u001b[0m fig = interaction_plot(x=inter.Inv, trace=inter.TMT, response=inter.Retain,\n\u001b[0;32m----> 3\u001b[0;31m                        colors=['red', 'blue'], markers=['D', '^'], ms=10, ax=ax)\n\u001b[0m",
      "\u001b[0;32m/Users/marleneguraieb/anaconda2/envs/python3_env/lib/python3.5/site-packages/statsmodels/graphics/factorplots.py\u001b[0m in \u001b[0;36minteraction_plot\u001b[0;34m(x, trace, response, func, ax, plottype, xlabel, ylabel, colors, markers, linestyles, legendloc, legendtitle, **kwargs)\u001b[0m\n\u001b[1;32m    101\u001b[0m \u001b[0;34m\u001b[0m\u001b[0m\n\u001b[1;32m    102\u001b[0m     \u001b[0mx_values\u001b[0m \u001b[0;34m=\u001b[0m \u001b[0mx_levels\u001b[0m \u001b[0;34m=\u001b[0m \u001b[0;32mNone\u001b[0m\u001b[0;34m\u001b[0m\u001b[0m\n\u001b[0;32m--> 103\u001b[0;31m     \u001b[0;32mif\u001b[0m \u001b[0misinstance\u001b[0m\u001b[0;34m(\u001b[0m\u001b[0mx\u001b[0m\u001b[0;34m[\u001b[0m\u001b[0;36m0\u001b[0m\u001b[0;34m]\u001b[0m\u001b[0;34m,\u001b[0m \u001b[0mstr\u001b[0m\u001b[0;34m)\u001b[0m\u001b[0;34m:\u001b[0m\u001b[0;34m\u001b[0m\u001b[0m\n\u001b[0m\u001b[1;32m    104\u001b[0m         \u001b[0mx_levels\u001b[0m \u001b[0;34m=\u001b[0m \u001b[0;34m[\u001b[0m\u001b[0ml\u001b[0m \u001b[0;32mfor\u001b[0m \u001b[0ml\u001b[0m \u001b[0;32min\u001b[0m \u001b[0mnp\u001b[0m\u001b[0;34m.\u001b[0m\u001b[0munique\u001b[0m\u001b[0;34m(\u001b[0m\u001b[0mx\u001b[0m\u001b[0;34m)\u001b[0m\u001b[0;34m]\u001b[0m\u001b[0;34m\u001b[0m\u001b[0m\n\u001b[1;32m    105\u001b[0m         \u001b[0mx_values\u001b[0m \u001b[0;34m=\u001b[0m \u001b[0mlrange\u001b[0m\u001b[0;34m(\u001b[0m\u001b[0mlen\u001b[0m\u001b[0;34m(\u001b[0m\u001b[0mx_levels\u001b[0m\u001b[0;34m)\u001b[0m\u001b[0;34m)\u001b[0m\u001b[0;34m\u001b[0m\u001b[0m\n",
      "\u001b[0;32m/Users/marleneguraieb/anaconda2/envs/python3_env/lib/python3.5/site-packages/pandas/core/series.py\u001b[0m in \u001b[0;36m__getitem__\u001b[0;34m(self, key)\u001b[0m\n\u001b[1;32m    599\u001b[0m         \u001b[0mkey\u001b[0m \u001b[0;34m=\u001b[0m \u001b[0mcom\u001b[0m\u001b[0;34m.\u001b[0m\u001b[0m_apply_if_callable\u001b[0m\u001b[0;34m(\u001b[0m\u001b[0mkey\u001b[0m\u001b[0;34m,\u001b[0m \u001b[0mself\u001b[0m\u001b[0;34m)\u001b[0m\u001b[0;34m\u001b[0m\u001b[0m\n\u001b[1;32m    600\u001b[0m         \u001b[0;32mtry\u001b[0m\u001b[0;34m:\u001b[0m\u001b[0;34m\u001b[0m\u001b[0m\n\u001b[0;32m--> 601\u001b[0;31m             \u001b[0mresult\u001b[0m \u001b[0;34m=\u001b[0m \u001b[0mself\u001b[0m\u001b[0;34m.\u001b[0m\u001b[0mindex\u001b[0m\u001b[0;34m.\u001b[0m\u001b[0mget_value\u001b[0m\u001b[0;34m(\u001b[0m\u001b[0mself\u001b[0m\u001b[0;34m,\u001b[0m \u001b[0mkey\u001b[0m\u001b[0;34m)\u001b[0m\u001b[0;34m\u001b[0m\u001b[0m\n\u001b[0m\u001b[1;32m    602\u001b[0m \u001b[0;34m\u001b[0m\u001b[0m\n\u001b[1;32m    603\u001b[0m             \u001b[0;32mif\u001b[0m \u001b[0;32mnot\u001b[0m \u001b[0mis_scalar\u001b[0m\u001b[0;34m(\u001b[0m\u001b[0mresult\u001b[0m\u001b[0;34m)\u001b[0m\u001b[0;34m:\u001b[0m\u001b[0;34m\u001b[0m\u001b[0m\n",
      "\u001b[0;32m/Users/marleneguraieb/anaconda2/envs/python3_env/lib/python3.5/site-packages/pandas/indexes/base.py\u001b[0m in \u001b[0;36mget_value\u001b[0;34m(self, series, key)\u001b[0m\n\u001b[1;32m   2167\u001b[0m         \u001b[0;32mtry\u001b[0m\u001b[0;34m:\u001b[0m\u001b[0;34m\u001b[0m\u001b[0m\n\u001b[1;32m   2168\u001b[0m             return self._engine.get_value(s, k,\n\u001b[0;32m-> 2169\u001b[0;31m                                           tz=getattr(series.dtype, 'tz', None))\n\u001b[0m\u001b[1;32m   2170\u001b[0m         \u001b[0;32mexcept\u001b[0m \u001b[0mKeyError\u001b[0m \u001b[0;32mas\u001b[0m \u001b[0me1\u001b[0m\u001b[0;34m:\u001b[0m\u001b[0;34m\u001b[0m\u001b[0m\n\u001b[1;32m   2171\u001b[0m             \u001b[0;32mif\u001b[0m \u001b[0mlen\u001b[0m\u001b[0;34m(\u001b[0m\u001b[0mself\u001b[0m\u001b[0;34m)\u001b[0m \u001b[0;34m>\u001b[0m \u001b[0;36m0\u001b[0m \u001b[0;32mand\u001b[0m \u001b[0mself\u001b[0m\u001b[0;34m.\u001b[0m\u001b[0minferred_type\u001b[0m \u001b[0;32min\u001b[0m \u001b[0;34m[\u001b[0m\u001b[0;34m'integer'\u001b[0m\u001b[0;34m,\u001b[0m \u001b[0;34m'boolean'\u001b[0m\u001b[0;34m]\u001b[0m\u001b[0;34m:\u001b[0m\u001b[0;34m\u001b[0m\u001b[0m\n",
      "\u001b[0;32mpandas/index.pyx\u001b[0m in \u001b[0;36mpandas.index.IndexEngine.get_value (pandas/index.c:3567)\u001b[0;34m()\u001b[0m\n",
      "\u001b[0;32mpandas/index.pyx\u001b[0m in \u001b[0;36mpandas.index.IndexEngine.get_value (pandas/index.c:3250)\u001b[0;34m()\u001b[0m\n",
      "\u001b[0;32mpandas/index.pyx\u001b[0m in \u001b[0;36mpandas.index.IndexEngine.get_loc (pandas/index.c:4289)\u001b[0;34m()\u001b[0m\n",
      "\u001b[0;32mpandas/src/hashtable_class_helper.pxi\u001b[0m in \u001b[0;36mpandas.hashtable.Int64HashTable.get_item (pandas/hashtable.c:8555)\u001b[0;34m()\u001b[0m\n",
      "\u001b[0;32mpandas/src/hashtable_class_helper.pxi\u001b[0m in \u001b[0;36mpandas.hashtable.Int64HashTable.get_item (pandas/hashtable.c:8499)\u001b[0;34m()\u001b[0m\n",
      "\u001b[0;31mKeyError\u001b[0m: 0"
     ]
    },
    {
     "data": {
      "image/png": "[encoded data removed]",
      "text/plain": [
       "<matplotlib.figure.Figure at 0x10df18240>"
      ]
     },
     "metadata": {},
     "output_type": "display_data"
    }
   ],
   "source": [
    "fig, ax = plt.subplots(figsize=(6, 6))\n",
    "fig = interaction_plot(x=inter.Inv, trace=inter.TMT, response=inter.Retain,\n",
    "                       colors=['red', 'blue'], markers=['D', '^'], ms=10, ax=ax)"
   ]
  },
  {
   "cell_type": "code",
   "execution_count": null,
   "metadata": {
    "collapsed": true
   },
   "outputs": [],
   "source": []
  }
 ],
 "metadata": {
  "anaconda-cloud": {},
  "kernelspec": {
   "display_name": "Python [conda env:python3_env]",
   "language": "python",
   "name": "conda-env-python3_env-py"
  },
  "language_info": {
   "codemirror_mode": {
    "name": "ipython",
    "version": 3
   },
   "file_extension": ".py",
   "mimetype": "text/x-python",
   "name": "python",
   "nbconvert_exporter": "python",
   "pygments_lexer": "ipython3",
   "version": "3.5.2"
  }
 },
 "nbformat": 4,
 "nbformat_minor": 1
}
